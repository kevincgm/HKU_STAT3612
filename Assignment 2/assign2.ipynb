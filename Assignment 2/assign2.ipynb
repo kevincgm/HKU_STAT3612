{
  "cells": [
    {
      "cell_type": "markdown",
      "metadata": {
        "id": "uMNUFTKfX3K1"
      },
      "source": [
        "## STAT3612: Statistical Machine Learning\n",
        "### Assignment 2: Classification\n",
        "### DUE: Nov 10, 2024, Sunday, 11:59 PM"
      ]
    },
    {
      "cell_type": "code",
      "execution_count": 1,
      "metadata": {
        "colab": {
          "base_uri": "https://localhost:8080/"
        },
        "id": "egwwWB0IXZYE",
        "outputId": "33b542fc-0cfc-4acf-bceb-d391fadebe0c"
      },
      "outputs": [
        {
          "name": "stdout",
          "output_type": "stream",
          "text": [
            "Requirement already satisfied: numpy in c:\\users\\kevin\\appdata\\local\\programs\\python\\python310\\lib\\site-packages (2.0.2)\n",
            "Requirement already satisfied: pandas in c:\\users\\kevin\\appdata\\local\\programs\\python\\python310\\lib\\site-packages (2.2.2)\n",
            "Requirement already satisfied: matplotlib in c:\\users\\kevin\\appdata\\local\\programs\\python\\python310\\lib\\site-packages (3.5.2)\n",
            "Requirement already satisfied: scikit-learn in c:\\users\\kevin\\appdata\\local\\programs\\python\\python310\\lib\\site-packages (1.3.0)\n",
            "Requirement already satisfied: keras in c:\\users\\kevin\\appdata\\local\\programs\\python\\python310\\lib\\site-packages (3.8.0)\n",
            "Requirement already satisfied: python-dateutil>=2.8.2 in c:\\users\\kevin\\appdata\\local\\programs\\python\\python310\\lib\\site-packages (from pandas) (2.8.2)\n",
            "Requirement already satisfied: pytz>=2020.1 in c:\\users\\kevin\\appdata\\local\\programs\\python\\python310\\lib\\site-packages (from pandas) (2024.2)\n",
            "Requirement already satisfied: tzdata>=2022.7 in c:\\users\\kevin\\appdata\\local\\programs\\python\\python310\\lib\\site-packages (from pandas) (2024.1)\n",
            "Requirement already satisfied: cycler>=0.10 in c:\\users\\kevin\\appdata\\local\\programs\\python\\python310\\lib\\site-packages (from matplotlib) (0.11.0)\n",
            "Requirement already satisfied: fonttools>=4.22.0 in c:\\users\\kevin\\appdata\\local\\programs\\python\\python310\\lib\\site-packages (from matplotlib) (4.34.4)\n",
            "Requirement already satisfied: kiwisolver>=1.0.1 in c:\\users\\kevin\\appdata\\local\\programs\\python\\python310\\lib\\site-packages (from matplotlib) (1.4.4)\n",
            "Requirement already satisfied: packaging>=20.0 in c:\\users\\kevin\\appdata\\local\\programs\\python\\python310\\lib\\site-packages (from matplotlib) (24.1)\n",
            "Requirement already satisfied: pillow>=6.2.0 in c:\\users\\kevin\\appdata\\local\\programs\\python\\python310\\lib\\site-packages (from matplotlib) (9.2.0)\n",
            "Requirement already satisfied: pyparsing>=2.2.1 in c:\\users\\kevin\\appdata\\local\\programs\\python\\python310\\lib\\site-packages (from matplotlib) (3.0.9)\n",
            "Requirement already satisfied: scipy>=1.5.0 in c:\\users\\kevin\\appdata\\local\\programs\\python\\python310\\lib\\site-packages (from scikit-learn) (1.9.0)\n",
            "Requirement already satisfied: joblib>=1.1.1 in c:\\users\\kevin\\appdata\\local\\programs\\python\\python310\\lib\\site-packages (from scikit-learn) (1.3.1)\n",
            "Requirement already satisfied: threadpoolctl>=2.0.0 in c:\\users\\kevin\\appdata\\local\\programs\\python\\python310\\lib\\site-packages (from scikit-learn) (3.2.0)\n",
            "Requirement already satisfied: absl-py in c:\\users\\kevin\\appdata\\local\\programs\\python\\python310\\lib\\site-packages (from keras) (2.1.0)\n",
            "Requirement already satisfied: rich in c:\\users\\kevin\\appdata\\local\\programs\\python\\python310\\lib\\site-packages (from keras) (13.7.1)\n",
            "Requirement already satisfied: namex in c:\\users\\kevin\\appdata\\local\\programs\\python\\python310\\lib\\site-packages (from keras) (0.0.8)\n",
            "Requirement already satisfied: h5py in c:\\users\\kevin\\appdata\\local\\programs\\python\\python310\\lib\\site-packages (from keras) (3.11.0)\n",
            "Requirement already satisfied: optree in c:\\users\\kevin\\appdata\\local\\programs\\python\\python310\\lib\\site-packages (from keras) (0.14.1)\n",
            "Requirement already satisfied: ml-dtypes in c:\\users\\kevin\\appdata\\local\\programs\\python\\python310\\lib\\site-packages (from keras) (0.4.1)\n",
            "Requirement already satisfied: six>=1.5 in c:\\users\\kevin\\appdata\\local\\programs\\python\\python310\\lib\\site-packages (from python-dateutil>=2.8.2->pandas) (1.16.0)\n",
            "Collecting numpy\n",
            "  Downloading numpy-1.24.4-cp310-cp310-win_amd64.whl.metadata (5.6 kB)\n",
            "Requirement already satisfied: typing-extensions>=4.5.0 in c:\\users\\kevin\\appdata\\local\\programs\\python\\python310\\lib\\site-packages (from optree->keras) (4.10.0)\n",
            "Requirement already satisfied: markdown-it-py>=2.2.0 in c:\\users\\kevin\\appdata\\local\\programs\\python\\python310\\lib\\site-packages (from rich->keras) (3.0.0)\n",
            "Requirement already satisfied: pygments<3.0.0,>=2.13.0 in c:\\users\\kevin\\appdata\\roaming\\python\\python310\\site-packages (from rich->keras) (2.15.1)\n",
            "Requirement already satisfied: mdurl~=0.1 in c:\\users\\kevin\\appdata\\local\\programs\\python\\python310\\lib\\site-packages (from markdown-it-py>=2.2.0->rich->keras) (0.1.2)\n",
            "Downloading numpy-1.24.4-cp310-cp310-win_amd64.whl (14.8 MB)\n",
            "   ---------------------------------------- 0.0/14.8 MB ? eta -:--:--\n",
            "   ---- ----------------------------------- 1.8/14.8 MB 8.4 MB/s eta 0:00:02\n",
            "   --------------------- ------------------ 8.1/14.8 MB 20.2 MB/s eta 0:00:01\n",
            "   ------------------------------------ --- 13.6/14.8 MB 22.0 MB/s eta 0:00:01\n",
            "   ---------------------------------------- 14.8/14.8 MB 21.7 MB/s eta 0:00:00\n",
            "Installing collected packages: numpy\n",
            "  Attempting uninstall: numpy\n",
            "    Found existing installation: numpy 2.0.2\n",
            "    Uninstalling numpy-2.0.2:\n",
            "      Successfully uninstalled numpy-2.0.2\n",
            "Successfully installed numpy-1.24.4\n"
          ]
        },
        {
          "name": "stderr",
          "output_type": "stream",
          "text": [
            "ERROR: pip's dependency resolver does not currently take into account all the packages that are installed. This behaviour is the source of the following dependency conflicts.\n",
            "tensorflow-intel 2.18.0 requires numpy<2.1.0,>=1.26.0, but you have numpy 1.24.4 which is incompatible.\n"
          ]
        }
      ],
      "source": [
        "! pip install numpy pandas matplotlib scikit-learn keras"
      ]
    },
    {
      "cell_type": "code",
      "execution_count": 10,
      "metadata": {},
      "outputs": [],
      "source": [
        "import numpy as np\n",
        "from sklearn.datasets import fetch_openml, load_digits\n",
        "from sklearn.model_selection import train_test_split\n",
        "from sklearn.discriminant_analysis import LinearDiscriminantAnalysis\n",
        "from sklearn.metrics import accuracy_score, precision_score, f1_score, recall_score\n",
        "import matplotlib.pyplot as plt\n",
        "from sklearn.linear_model import LogisticRegression\n",
        "from sklearn.preprocessing import StandardScaler, OneHotEncoder\n",
        "from sklearn.utils import shuffle\n",
        "\n"
      ]
    },
    {
      "cell_type": "code",
      "execution_count": 2,
      "metadata": {
        "id": "sy1aMtfMc3oQ"
      },
      "outputs": [
        {
          "name": "stderr",
          "output_type": "stream",
          "text": [
            "c:\\Users\\kevin\\AppData\\Local\\Programs\\Python\\Python310\\lib\\site-packages\\sklearn\\datasets\\_openml.py:1002: FutureWarning: The default value of `parser` will change from `'liac-arff'` to `'auto'` in 1.4. You can set `parser='auto'` to silence this warning. Therefore, an `ImportError` will be raised from 1.4 if the dataset is dense and pandas is not installed. Note that the pandas parser may return different data types. See the Notes Section in fetch_openml's API doc for details.\n",
            "  warn(\n"
          ]
        },
        {
          "name": "stdout",
          "output_type": "stream",
          "text": [
            "(60000, 784)\n",
            "(10000, 784)\n",
            "(60000,)\n",
            "3\n",
            "Testing Data Accuracy: 86.21%\n"
          ]
        }
      ],
      "source": [
        "# Q7 (a)\n",
        "\n",
        "# ------------------\n",
        "# Write your code here\n",
        "# Load the MNIST dataset\n",
        "X, y = fetch_openml('mnist_784', version=1, return_X_y=True, as_frame=False)\n",
        "y = y.astype(int)\n",
        "\n",
        "# Split the data into training and testing sets\n",
        "X_train, X_test, y_train, y_test = train_test_split(X, y, train_size=60000, test_size=10000, random_state=13)\n",
        "print(X_train.shape)\n",
        "print(X_test.shape)\n",
        "print(y_train.shape)\n",
        "print(y_train[0])\n",
        "\n",
        "# Fit LDA model\n",
        "lda = LinearDiscriminantAnalysis()\n",
        "lda.fit(X_train, y_train)\n",
        "\n",
        "# Make prediction and access accuracy\n",
        "y_pred = lda.predict(X_test)\n",
        "accuracy = accuracy_score(y_test, y_pred)\n",
        "print(f\"Testing Data Accuracy: {accuracy * 100:.2f}%\")\n",
        "\n",
        "# ------------------"
      ]
    },
    {
      "cell_type": "code",
      "execution_count": null,
      "metadata": {
        "id": "uN67OkQ-c4VT"
      },
      "outputs": [
        {
          "name": "stdout",
          "output_type": "stream",
          "text": [
            "Precision: 0.9950\n",
            "Recall: 0.9944\n",
            "F1-Score: 0.9947\n",
            "Accuracy: 0.9942\n"
          ]
        }
      ],
      "source": [
        "# Q7 (b)\n",
        "\n",
        "# ------------------\n",
        "# Write your code here\n",
        "# Apply filter\n",
        "y_7b = y[(y==0) | (y==1)]\n",
        "X_7b = X[(y==0) | (y==1)]\n",
        "\n",
        "X_train_7b, X_test_7b, y_train_7b, y_test_7b = train_test_split(X_7b, y_7b, test_size=0.2, random_state=13)\n",
        "\n",
        "# Initialize LDA\n",
        "lda = LinearDiscriminantAnalysis()\n",
        "lda.fit(X_train_7b, y_train_7b)\n",
        "\n",
        "y_pred_7b = lda.predict(X_test_7b)\n",
        "\n",
        "# Compute metrics and display results\n",
        "precision = precision_score(y_test_7b, y_pred_7b)\n",
        "recall = recall_score(y_test_7b, y_pred_7b)\n",
        "f1 = f1_score(y_test_7b, y_pred_7b)\n",
        "\n",
        "print(f\"Precision: {precision:.4f}\")\n",
        "print(f\"Recall: {recall:.4f}\")\n",
        "print(f\"F1-Score: {f1:.4f}\")\n",
        "# ------------------"
      ]
    },
    {
      "cell_type": "code",
      "execution_count": 14,
      "metadata": {
        "colab": {
          "base_uri": "https://localhost:8080/"
        },
        "id": "eufIxXM9X1Po",
        "outputId": "04374f8c-f4eb-4de7-bf97-3af969d2d337"
      },
      "outputs": [
        {
          "name": "stdout",
          "output_type": "stream",
          "text": [
            "X_train shape: (50000, 32, 32, 3)\n",
            "X_test shape: (10000, 32, 32, 3)\n",
            "y_train shape: (50000, 1)\n",
            "y_test shape: (10000, 1)\n"
          ]
        }
      ],
      "source": [
        "from keras.datasets import cifar10\n",
        "\n",
        "(X_train, y_train), (X_test, y_test) = cifar10.load_data()\n",
        "print('X_train shape:', X_train.shape)\n",
        "print('X_test shape:', X_test.shape)\n",
        "print('y_train shape:', y_train.shape)\n",
        "print('y_test shape:', y_test.shape)\n",
        "\n",
        "X_train = X_train.reshape(X_train.shape[0], -1)\n",
        "X_test = X_test.reshape(X_test.shape[0], -1)\n",
        "\n",
        "# Normalise pixel values to [0,1]\n",
        "X_train = X_train / 255\n",
        "X_test = X_test / 255"
      ]
    },
    {
      "cell_type": "markdown",
      "metadata": {
        "id": "vX6Sx7jLZX3r"
      },
      "source": [
        "Consider flatten the images to 1D vectors and make the shape of the X be (Batch, dim)."
      ]
    },
    {
      "cell_type": "code",
      "execution_count": null,
      "metadata": {
        "id": "nFl5cHDzadcO"
      },
      "outputs": [
        {
          "name": "stdout",
          "output_type": "stream",
          "text": [
            "X_train shape: (50000, 3072)\n",
            "X_test shape: (10000, 3072)\n",
            "[[0.23137255 0.24313725 0.24705882 ... 0.48235294 0.36078431 0.28235294]\n",
            " [0.60392157 0.69411765 0.73333333 ... 0.56078431 0.52156863 0.56470588]\n",
            " [1.         1.         1.         ... 0.31372549 0.3372549  0.32941176]\n",
            " ...\n",
            " [0.1372549  0.69803922 0.92156863 ... 0.04705882 0.12156863 0.19607843]\n",
            " [0.74117647 0.82745098 0.94117647 ... 0.76470588 0.74509804 0.67058824]\n",
            " [0.89803922 0.89803922 0.9372549  ... 0.63921569 0.63921569 0.63137255]]\n",
            "[1.e-02 1.e-01 1.e+00 1.e+01 1.e+02]\n",
            "Training with C=0.0100...\n"
          ]
        },
        {
          "name": "stderr",
          "output_type": "stream",
          "text": [
            "c:\\Users\\kevin\\AppData\\Local\\Programs\\Python\\Python310\\lib\\site-packages\\sklearn\\utils\\validation.py:1184: DataConversionWarning: A column-vector y was passed when a 1d array was expected. Please change the shape of y to (n_samples, ), for example using ravel().\n",
            "  y = column_or_1d(y, warn=True)\n",
            "c:\\Users\\kevin\\AppData\\Local\\Programs\\Python\\Python310\\lib\\site-packages\\sklearn\\linear_model\\_sag.py:350: ConvergenceWarning: The max_iter was reached which means the coef_ did not converge\n",
            "  warnings.warn(\n"
          ]
        },
        {
          "name": "stdout",
          "output_type": "stream",
          "text": [
            "Accuracy: 0.4025\n",
            "Training with C=0.1000...\n"
          ]
        },
        {
          "name": "stderr",
          "output_type": "stream",
          "text": [
            "c:\\Users\\kevin\\AppData\\Local\\Programs\\Python\\Python310\\lib\\site-packages\\sklearn\\utils\\validation.py:1184: DataConversionWarning: A column-vector y was passed when a 1d array was expected. Please change the shape of y to (n_samples, ), for example using ravel().\n",
            "  y = column_or_1d(y, warn=True)\n",
            "c:\\Users\\kevin\\AppData\\Local\\Programs\\Python\\Python310\\lib\\site-packages\\sklearn\\linear_model\\_sag.py:350: ConvergenceWarning: The max_iter was reached which means the coef_ did not converge\n",
            "  warnings.warn(\n"
          ]
        },
        {
          "name": "stdout",
          "output_type": "stream",
          "text": [
            "Accuracy: 0.4124\n",
            "Training with C=1.0000...\n"
          ]
        },
        {
          "name": "stderr",
          "output_type": "stream",
          "text": [
            "c:\\Users\\kevin\\AppData\\Local\\Programs\\Python\\Python310\\lib\\site-packages\\sklearn\\utils\\validation.py:1184: DataConversionWarning: A column-vector y was passed when a 1d array was expected. Please change the shape of y to (n_samples, ), for example using ravel().\n",
            "  y = column_or_1d(y, warn=True)\n",
            "c:\\Users\\kevin\\AppData\\Local\\Programs\\Python\\Python310\\lib\\site-packages\\sklearn\\linear_model\\_sag.py:350: ConvergenceWarning: The max_iter was reached which means the coef_ did not converge\n",
            "  warnings.warn(\n",
            "c:\\Users\\kevin\\AppData\\Local\\Programs\\Python\\Python310\\lib\\site-packages\\sklearn\\utils\\validation.py:1184: DataConversionWarning: A column-vector y was passed when a 1d array was expected. Please change the shape of y to (n_samples, ), for example using ravel().\n",
            "  y = column_or_1d(y, warn=True)\n"
          ]
        },
        {
          "name": "stdout",
          "output_type": "stream",
          "text": [
            "Accuracy: 0.3923\n",
            "Training with C=10.0000...\n"
          ]
        },
        {
          "name": "stderr",
          "output_type": "stream",
          "text": [
            "c:\\Users\\kevin\\AppData\\Local\\Programs\\Python\\Python310\\lib\\site-packages\\sklearn\\linear_model\\_sag.py:350: ConvergenceWarning: The max_iter was reached which means the coef_ did not converge\n",
            "  warnings.warn(\n"
          ]
        },
        {
          "name": "stdout",
          "output_type": "stream",
          "text": [
            "Accuracy: 0.3895\n",
            "Training with C=100.0000...\n"
          ]
        },
        {
          "name": "stderr",
          "output_type": "stream",
          "text": [
            "c:\\Users\\kevin\\AppData\\Local\\Programs\\Python\\Python310\\lib\\site-packages\\sklearn\\utils\\validation.py:1184: DataConversionWarning: A column-vector y was passed when a 1d array was expected. Please change the shape of y to (n_samples, ), for example using ravel().\n",
            "  y = column_or_1d(y, warn=True)\n",
            "c:\\Users\\kevin\\AppData\\Local\\Programs\\Python\\Python310\\lib\\site-packages\\sklearn\\linear_model\\_sag.py:350: ConvergenceWarning: The max_iter was reached which means the coef_ did not converge\n",
            "  warnings.warn(\n"
          ]
        },
        {
          "name": "stdout",
          "output_type": "stream",
          "text": [
            "Accuracy: 0.3898\n"
          ]
        }
      ],
      "source": [
        "# Q8 (a)\n",
        "\n",
        "# ------------------\n",
        "# Write your code here\n",
        "# FLatten images to 1D vector\n",
        "X_train = X_train.reshape(X_train.shape[0], -1)\n",
        "X_test = X_test.reshape(X_test.shape[0], -1)\n",
        "\n",
        "# Normalise pixel values to [0,1]\n",
        "X_train = X_train / 255\n",
        "X_test = X_test / 255\n",
        "\n",
        "print(X_train)\n",
        "\n",
        "# Standardize the data since L1 penalty is to be used. \n",
        "scaler = StandardScaler()\n",
        "X_train = scaler.fit_transform(X_train)\n",
        "X_test = scaler.transform(X_test)\n",
        "\n",
        "# Define a range of regularization strengths (C values)\n",
        "C_values = np.logspace(-2, 2, 5)  # Logarithmic range from 1e-4 to 1e4\n",
        "print(C_values)\n",
        "accuracies = []\n",
        "\n",
        "# Train and evaluate the model for each C value\n",
        "for C in C_values:\n",
        "    print(f\"Training with C={C:.4f}...\")\n",
        "    model = LogisticRegression(\n",
        "        multi_class=\"multinomial\",\n",
        "        solver=\"saga\",\n",
        "        penalty=\"l1\",\n",
        "        C=C,  # Inverse of regularization strength in sklearn\n",
        "        max_iter=100,\n",
        "        random_state=42,\n",
        "        warm_start=True,\n",
        "    )\n",
        "    model.fit(X_train, y_train)\n",
        "    y_pred = model.predict(X_test)\n",
        "    accuracy = accuracy_score(y_test, y_pred)\n",
        "    accuracies.append(accuracy)\n",
        "    print(f\"Accuracy: {accuracy:.4f}\")\n",
        "    \n",
        "# ------------------"
      ]
    },
    {
      "cell_type": "code",
      "execution_count": 4,
      "metadata": {},
      "outputs": [
        {
          "data": {
            "image/png": "[encoded data removed]",
            "text/plain": [
              "<Figure size 1000x600 with 1 Axes>"
            ]
          },
          "metadata": {},
          "output_type": "display_data"
        }
      ],
      "source": [
        "# Plot the accuracy vs. weight of the L1 penalty\n",
        "plt.figure(figsize=(10, 6))\n",
        "plt.plot(C_values, accuracies, marker='o', linestyle='-', color='b')\n",
        "plt.xscale('log')  # Use logarithmic scale for C values\n",
        "plt.xlabel(\"Regularization Strength (C)\")\n",
        "plt.ylabel(\"Accuracy\")\n",
        "plt.title(\"Accuracy vs. Weight of L1 Penalty (C) for Softmax Regression\")\n",
        "plt.grid(True)\n",
        "plt.show()"
      ]
    },
    {
      "cell_type": "markdown",
      "metadata": {},
      "source": [
        "The L1 penalty term is defined as:\n",
        "\n",
        "$\n",
        "{L}_{\\text{L1}} = \\lambda \\|\\mathbf{W}\\|_1 = \\lambda \\sum_{i,j} |w_{ij}|\n",
        "$\n",
        "\n",
        "The gradient of the L1 penalty with respect to the weights is:\n",
        "\n",
        "$\n",
        "\\nabla_{\\mathbf{W}} \\mathcal{L}_{\\text{L1}} = \\lambda \\cdot \\text{sign}(\\mathbf{W})\n",
        "$\n",
        "\n",
        ", where $\\text{sign}(\\mathbf{W})$ is the element-wise sign of the weight matrix."
      ]
    },
    {
      "cell_type": "code",
      "execution_count": 54,
      "metadata": {
        "id": "4HKSMHJTbXEB"
      },
      "outputs": [
        {
          "name": "stderr",
          "output_type": "stream",
          "text": [
            "c:\\Users\\kevin\\AppData\\Local\\Programs\\Python\\Python310\\lib\\site-packages\\sklearn\\preprocessing\\_encoders.py:972: FutureWarning: `sparse` was renamed to `sparse_output` in version 1.2 and will be removed in 1.4. `sparse_output` is ignored unless you leave `sparse` to its default value.\n",
            "  warnings.warn(\n",
            "c:\\Users\\kevin\\AppData\\Local\\Programs\\Python\\Python310\\lib\\site-packages\\sklearn\\preprocessing\\_encoders.py:972: FutureWarning: `sparse` was renamed to `sparse_output` in version 1.2 and will be removed in 1.4. `sparse_output` is ignored unless you leave `sparse` to its default value.\n",
            "  warnings.warn(\n"
          ]
        },
        {
          "name": "stdout",
          "output_type": "stream",
          "text": [
            "Epoch 10/100\n",
            "Epoch 20/100\n",
            "Epoch 30/100\n",
            "Epoch 40/100\n",
            "Epoch 50/100\n",
            "Epoch 60/100\n",
            "Epoch 70/100\n",
            "Epoch 80/100\n",
            "Epoch 90/100\n",
            "Epoch 100/100\n",
            "Test Accuracy: 0.4031\n"
          ]
        }
      ],
      "source": [
        "# Q8 (b)\n",
        "np.random.seed(0)\n",
        "\n",
        "def softmax(x):\n",
        "    return np.exp(x) / np.sum(np.exp(x), axis = 1, keepdims=True)\n",
        "\n",
        "def sgd_step(w, X_train_mini, y_train_mini, lr, minibatch_size, lambda_l1):\n",
        "    \"\"\"\n",
        "    Perform a single step of Stochastic Gradient Descent (SGD) to update the weight matrix with L1 regularization.\n",
        "\n",
        "    Parameters:\n",
        "    w: ndarray\n",
        "        Weight matrix of the model. This is the parameter we want to update.\n",
        "    X_train_mini: ndarray\n",
        "        A mini-batch of training data. Each row corresponds to a training example, and each column corresponds to a feature.\n",
        "    y_train_mini: ndarray\n",
        "        One-hot encoded labels for the mini-batch. Each row is the label for the corresponding training example.\n",
        "    lr: float\n",
        "        Learning rate for the gradient descent step.\n",
        "    minibatch_size: int\n",
        "        The size of the mini-batch used in the update step.\n",
        "    lambda_l1: float\n",
        "        Regularization strength for the L1 penalty.\n",
        "\n",
        "    Returns:\n",
        "    w: ndarray\n",
        "        Updated weight matrix after the SGD step.\n",
        "    \"\"\"\n",
        "    # Compute the gradient of the cross-entropy loss with respect to the weights\n",
        "    dw = (softmax((w @ X_train_mini.T).T).T - y_train_mini.T) @ X_train_mini / minibatch_size\n",
        "\n",
        "    # Add the gradient of the L1 regularization term\n",
        "    dw += lambda_l1 * np.sign(w)\n",
        "\n",
        "    # Update the weights by subtracting the learning rate times the gradient\n",
        "    w = w - lr * dw\n",
        "\n",
        "    # Return the updated weight matrix\n",
        "    return w\n",
        "\n",
        "def sgd(w, X_train, y_train, lr, lambda_l1, minibatch_size=64):\n",
        "    \"\"\"\n",
        "    Perform Stochastic Gradient Descent (SGD) over the entire dataset with L1 regularization.\n",
        "\n",
        "    Parameters:\n",
        "    w: ndarray\n",
        "        Weight matrix of the model. This is the parameter we want to update.\n",
        "    X_train: ndarray\n",
        "        Training data. Each row corresponds to a training example, and each column corresponds to a feature.\n",
        "    y_train: ndarray\n",
        "        One-hot encoded labels for the training data. Each row is the label for the corresponding training example.\n",
        "    lr: float\n",
        "        Learning rate for the gradient descent step.\n",
        "    minibatch_size: int, optional\n",
        "        The size of the mini-batch used in each update step. Default is 64.\n",
        "    lambda_l1: float, optional\n",
        "        Regularization strength for the L1 penalty. Default is 0.01.\n",
        "\n",
        "    Returns:\n",
        "    w: ndarray\n",
        "        Updated weight matrix after processing the entire training data using SGD.\n",
        "    \"\"\"\n",
        "    # Shuffle the dataset to ensure that the mini-batches are selected randomly in each epoch\n",
        "    X_train, y_train = shuffle(X_train, y_train)\n",
        "\n",
        "    # Iterate over the dataset in mini-batches\n",
        "    for i in range(0, X_train.shape[0], minibatch_size):\n",
        "        # Extract the current mini-batch from the training data\n",
        "        X_train_mini = X_train[i:i + minibatch_size]\n",
        "        # Extract the corresponding mini-batch of labels\n",
        "        y_train_mini = y_train[i:i + minibatch_size]\n",
        "\n",
        "        # Perform a single SGD step to update the weights using the mini-batch\n",
        "        w = sgd_step(w, X_train_mini, y_train_mini, lr, minibatch_size, lambda_l1)\n",
        "\n",
        "    # Return the updated weights after all mini-batches have been processed\n",
        "    return w\n",
        "\n",
        "def train_with_SGD(model, X_train, y_train, lr, epoch_num, lambda_l1):\n",
        "    \"\"\"\n",
        "    Train the model using Stochastic Gradient Descent (SGD) with L1 regularization.\n",
        "\n",
        "    Parameters:\n",
        "    model: dict\n",
        "        Dictionary containing the weight matrix.\n",
        "    X_train: ndarray\n",
        "        Training data. Each row corresponds to a training example, and each column corresponds to a feature.\n",
        "    y_train: ndarray\n",
        "        One-hot encoded labels for the training data. Each row is the label for the corresponding training example.\n",
        "    lr: float\n",
        "        Learning rate for the gradient descent step.\n",
        "    epoch_num: int\n",
        "        Number of epochs to train the model.\n",
        "    lambda_l1: float\n",
        "        Regularization strength for the L1 penalty.\n",
        "\n",
        "    Returns:\n",
        "    model: dict\n",
        "        Updated model after training.\n",
        "    \"\"\"\n",
        "    # Extract the weight matrix from the model\n",
        "    w = model['w']\n",
        "\n",
        "    # Train the model for the specified number of epochs\n",
        "    for epoch in range(epoch_num):\n",
        "        w = sgd(w, X_train, y_train, lr, lambda_l1=lambda_l1)\n",
        "        if (epoch + 1) % 10 == 0:\n",
        "            print(f\"Epoch {epoch + 1}/{epoch_num}\")\n",
        "\n",
        "    # Update the model with the trained weights\n",
        "    model['w'] = w\n",
        "    return model\n",
        "\n",
        "\n",
        "def test(model, X_test, y_test):\n",
        "    \"\"\"\n",
        "    Evaluate the model on the test set.\n",
        "\n",
        "    Parameters:\n",
        "    model: dict\n",
        "        Dictionary containing the model parameters (e.g., weight matrix).\n",
        "    X_test: ndarray\n",
        "        Test data. Each row corresponds to a test example, and each column corresponds to a feature.\n",
        "    y_test: ndarray\n",
        "        One-hot encoded labels for the test data. Each row is the label for the corresponding test example.\n",
        "\n",
        "    Returns:\n",
        "    accuracy: float\n",
        "        Accuracy of the model on the test set.\n",
        "    \"\"\"\n",
        "    # Extract the weight matrix from the model\n",
        "    w = model['w']\n",
        "\n",
        "    # Compute the predicted probabilities\n",
        "    scores = np.dot(X_test, w.T)\n",
        "    y_pred = np.argmax(scores, axis=1)\n",
        "    y_true = np.argmax(y_test, axis=1)\n",
        "\n",
        "    # Compute the accuracy\n",
        "    accuracy = np.mean(y_pred == y_true)\n",
        "    return accuracy\n",
        "\n",
        "\n",
        "# ------------------\n",
        "# Write your code here\n",
        "# One-hot encode labels\n",
        "encoder = OneHotEncoder(sparse=False)\n",
        "y_train_onehot = encoder.fit_transform(y_train.reshape(-1, 1))\n",
        "y_test_onehot = encoder.fit_transform(y_test.reshape(-1, 1))\n",
        "\n",
        "\n",
        "# Initialize the model\n",
        "n_features = X_train.shape[1]\n",
        "n_classes = y_train.shape[1]\n",
        "model = {'w': np.random.randn(n_classes, n_features) * 0.01}\n",
        "\n",
        "# Train the model\n",
        "model = train_with_SGD(model, X_train, y_train_onehot, lr=0.002, epoch_num=100, lambda_l1=0.00005)\n",
        "\n",
        "# Test the model\n",
        "accuracy = test(model, X_test, y_test_onehot)\n",
        "print(f\"Test Accuracy: {accuracy:.4f}\")\n",
        "\n",
        "# ------------------"
      ]
    },
    {
      "cell_type": "code",
      "execution_count": 55,
      "metadata": {},
      "outputs": [
        {
          "name": "stdout",
          "output_type": "stream",
          "text": [
            "Class with highest accuracy: 0\n"
          ]
        },
        {
          "data": {
            "image/png": "[encoded data removed]",
            "text/plain": [
              "<Figure size 640x480 with 1 Axes>"
            ]
          },
          "metadata": {},
          "output_type": "display_data"
        }
      ],
      "source": [
        "# Find the class with the highest accuracy\n",
        "class_accuracies = []\n",
        "for k in range(n_classes):\n",
        "    mask = np.argmax(y_test, axis=1) == k\n",
        "    class_accuracies.append(np.mean(y_pred[mask] == k))\n",
        "\n",
        "best_class = np.argmax(class_accuracies)\n",
        "print(f\"Class with highest accuracy: {best_class}\")\n",
        "\n",
        "# Visualize an image from the best class\n",
        "best_class_indices = np.where(np.argmax(y_test, axis=1) == best_class)[0]\n",
        "sample_index = best_class_indices[0]\n",
        "sample_image = X_test[sample_index].reshape(32, 32, 3)\n",
        "\n",
        "plt.imshow(sample_image)\n",
        "plt.title(f\"Class {best_class}\")\n",
        "plt.axis(\"off\")\n",
        "plt.show()"
      ]
    }
  ],
  "metadata": {
    "colab": {
      "provenance": []
    },
    "kernelspec": {
      "display_name": "Python 3",
      "name": "python3"
    },
    "language_info": {
      "codemirror_mode": {
        "name": "ipython",
        "version": 3
      },
      "file_extension": ".py",
      "mimetype": "text/x-python",
      "name": "python",
      "nbconvert_exporter": "python",
      "pygments_lexer": "ipython3",
      "version": "3.10.6"
    }
  },
  "nbformat": 4,
  "nbformat_minor": 0
}
